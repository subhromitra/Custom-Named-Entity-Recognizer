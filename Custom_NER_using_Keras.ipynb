{
 "cells": [
  {
   "cell_type": "markdown",
   "metadata": {},
   "source": [
    "<h1> Custom Named Entity Recognizer</h1>\n",
    "\n",
    "Named entity recognizer's are generally trained on texts from web articles or news articles. In such cases they are not able to recognize entities from finance or medical domain. For such use cases, we need to train the NER using domain specific labelled data. \n",
    "\n",
    "If training data is large then we may train an NER from scratch. But if we don't have sufficient data then we may retrain a previously trained NER with new data.\n",
    "\n",
    "For this use case since our data is large enough to train an NER model from scratch.\n",
    "<br>\n",
    "\n",
    "<h3>Problem Description</h3>\n",
    "\n",
    "The core problem that we are trying to solve here is :- Given a text (sentence), we have to find out the different types of entities in that text, e.g - names of people, organizations, places etc. \n",
    "\n",
    "We can model it as a **many-to-many** sequence prediction problem, i.e, input is a sentence (set of tokens) & output is a set of tags describing each token.\n",
    "<br>\n",
    "\n",
    "<h3>Dataset Description :-</h3>\n",
    "\n",
    "The dataset used was extracted from GMB corpus (Groningen Meaning Bank) & can be found here :- https://www.kaggle.com/abhinavwalia95/entity-annotated-corpus . We have nearly 48K labelled sentences.\n",
    "<br>\n",
    "\n",
    "<h3>Plan of Attack</h3>\n",
    "\n",
    "We are going to train a **Bi-LSTM model** from scratch. We are going to use the Keras library for this task, although we could also use SpaCy for performing this task also - by using an empty pipeline & including an untrained NER in that pipeline."
   ]
  },
  {
   "cell_type": "code",
   "execution_count": 2,
   "metadata": {
    "id": "WepyMEJ560zc"
   },
   "outputs": [],
   "source": [
    "import pandas as pd\n",
    "import numpy as np"
   ]
  },
  {
   "cell_type": "code",
   "execution_count": 3,
   "metadata": {
    "colab": {
     "base_uri": "https://localhost:8080/",
     "height": 205
    },
    "id": "BqwB1NCu7E9W",
    "outputId": "5ffa89ac-e518-4626-f3a4-57e9f8eed7bb"
   },
   "outputs": [
    {
     "data": {
      "text/html": [
       "<div>\n",
       "<style scoped>\n",
       "    .dataframe tbody tr th:only-of-type {\n",
       "        vertical-align: middle;\n",
       "    }\n",
       "\n",
       "    .dataframe tbody tr th {\n",
       "        vertical-align: top;\n",
       "    }\n",
       "\n",
       "    .dataframe thead th {\n",
       "        text-align: right;\n",
       "    }\n",
       "</style>\n",
       "<table border=\"1\" class=\"dataframe\">\n",
       "  <thead>\n",
       "    <tr style=\"text-align: right;\">\n",
       "      <th></th>\n",
       "      <th>Sentence #</th>\n",
       "      <th>Word</th>\n",
       "      <th>POS</th>\n",
       "      <th>Tag</th>\n",
       "    </tr>\n",
       "  </thead>\n",
       "  <tbody>\n",
       "    <tr>\n",
       "      <th>0</th>\n",
       "      <td>Sentence: 1</td>\n",
       "      <td>Thousands</td>\n",
       "      <td>NNS</td>\n",
       "      <td>O</td>\n",
       "    </tr>\n",
       "    <tr>\n",
       "      <th>1</th>\n",
       "      <td>NaN</td>\n",
       "      <td>of</td>\n",
       "      <td>IN</td>\n",
       "      <td>O</td>\n",
       "    </tr>\n",
       "    <tr>\n",
       "      <th>2</th>\n",
       "      <td>NaN</td>\n",
       "      <td>demonstrators</td>\n",
       "      <td>NNS</td>\n",
       "      <td>O</td>\n",
       "    </tr>\n",
       "    <tr>\n",
       "      <th>3</th>\n",
       "      <td>NaN</td>\n",
       "      <td>have</td>\n",
       "      <td>VBP</td>\n",
       "      <td>O</td>\n",
       "    </tr>\n",
       "    <tr>\n",
       "      <th>4</th>\n",
       "      <td>NaN</td>\n",
       "      <td>marched</td>\n",
       "      <td>VBN</td>\n",
       "      <td>O</td>\n",
       "    </tr>\n",
       "  </tbody>\n",
       "</table>\n",
       "</div>"
      ],
      "text/plain": [
       "    Sentence #           Word  POS Tag\n",
       "0  Sentence: 1      Thousands  NNS   O\n",
       "1          NaN             of   IN   O\n",
       "2          NaN  demonstrators  NNS   O\n",
       "3          NaN           have  VBP   O\n",
       "4          NaN        marched  VBN   O"
      ]
     },
     "execution_count": 3,
     "metadata": {},
     "output_type": "execute_result"
    }
   ],
   "source": [
    "df = pd.read_csv(\"ner_dataset.csv\", encoding='latin')#ner_dataset.csv\n",
    "df.head()"
   ]
  },
  {
   "cell_type": "code",
   "execution_count": 4,
   "metadata": {
    "colab": {
     "base_uri": "https://localhost:8080/"
    },
    "id": "Qcc9JLIO9ugL",
    "outputId": "1b851966-03f2-4346-be72-fc49c02dc96f"
   },
   "outputs": [
    {
     "data": {
      "text/plain": [
       "(1048575, 4)"
      ]
     },
     "execution_count": 4,
     "metadata": {},
     "output_type": "execute_result"
    }
   ],
   "source": [
    "## cHECKING NO.OF ROWS IN THE DATASET\n",
    "df.shape"
   ]
  },
  {
   "cell_type": "code",
   "execution_count": null,
   "metadata": {
    "colab": {
     "base_uri": "https://localhost:8080/"
    },
    "id": "WaGpbu0f7NAM",
    "outputId": "1cc42967-1f9f-4502-e84e-4aae67d40b4a"
   },
   "outputs": [
    {
     "data": {
      "text/plain": [
       "array(['NNS', 'IN', 'VBP', 'VBN', 'NNP', 'TO', 'VB', 'DT', 'NN', 'CC',\n",
       "       'JJ', '.', 'VBD', 'WP', '``', 'CD', 'PRP', 'VBZ', 'POS', 'VBG',\n",
       "       'RB', ',', 'WRB', 'PRP$', 'MD', 'WDT', 'JJR', ':', 'JJS', 'WP$',\n",
       "       'RP', 'PDT', 'NNPS', 'EX', 'RBS', 'LRB', 'RRB', '$', 'RBR', ';',\n",
       "       'UH', 'FW'], dtype=object)"
      ]
     },
     "execution_count": 6,
     "metadata": {},
     "output_type": "execute_result"
    }
   ],
   "source": [
    "## CHECKING THE POS TAGS IN THIS DATASET\n",
    "df[\"POS\"].unique()"
   ]
  },
  {
   "cell_type": "code",
   "execution_count": null,
   "metadata": {
    "colab": {
     "base_uri": "https://localhost:8080/"
    },
    "id": "2U3MW1fv8Fyl",
    "outputId": "5be9baaf-b0c5-47fb-f863-4ceea06c0201"
   },
   "outputs": [
    {
     "name": "stdout",
     "output_type": "stream",
     "text": [
      "No.of unique tags :-  17\n",
      "Unique tags are :-\n",
      " ['O' 'B-geo' 'B-gpe' 'B-per' 'I-geo' 'B-org' 'I-org' 'B-tim' 'B-art'\n",
      " 'I-art' 'I-per' 'I-gpe' 'I-tim' 'B-nat' 'B-eve' 'I-eve' 'I-nat']\n"
     ]
    }
   ],
   "source": [
    "## CHECKING THE UNIQUE TAGS IN THIS DATASET\n",
    "print(\"No.of unique tags :- \",len(df[\"Tag\"].unique()))\n",
    "print(\"Unique tags are :-\\n\",df[\"Tag\"].unique())"
   ]
  },
  {
   "cell_type": "markdown",
   "metadata": {},
   "source": [
    "**Therefore no.of output classes is 17**"
   ]
  },
  {
   "cell_type": "code",
   "execution_count": 4,
   "metadata": {
    "id": "_cBI9gRkgfHC"
   },
   "outputs": [],
   "source": [
    "## INDEXING EACH UNIQUE TOKEN\n",
    "vocab = list(set(data[\"Word\"].values))\n",
    "idx2word = {idx:tok for  idx, tok in enumerate(vocab)}\n",
    "word2idx = {tok:idx for  idx, tok in enumerate(vocab)}\n",
    "\n",
    "## INDEXING EACH UNIQUE TAG\n",
    "tags = list(set(data[\"Tag\"].values))\n",
    "idx2tag = {idx:tok for  idx, tok in enumerate(tags)}\n",
    "tag2idx = {tok:idx for  idx, tok in enumerate(tags)}"
   ]
  },
  {
   "cell_type": "code",
   "execution_count": 5,
   "metadata": {
    "colab": {
     "base_uri": "https://localhost:8080/"
    },
    "id": "VBb05c224G9R",
    "outputId": "1e2c8cf7-ab4a-479e-8890-c617fa8b5c94"
   },
   "outputs": [
    {
     "name": "stdout",
     "output_type": "stream",
     "text": [
      "35178 17\n"
     ]
    }
   ],
   "source": [
    "## CHECKING NO.OF UNIQUE TOKENS & TAGS\n",
    "n_token, n_tags = len(vocab), len(tags)\n",
    "print(n_token, n_tags)"
   ]
  },
  {
   "cell_type": "code",
   "execution_count": 6,
   "metadata": {
    "colab": {
     "base_uri": "https://localhost:8080/",
     "height": 205
    },
    "id": "CNeD92svg7XO",
    "outputId": "84f1bed0-3ab9-488d-a7e0-bdfcf6c9e83f"
   },
   "outputs": [
    {
     "data": {
      "text/html": [
       "<div>\n",
       "<style scoped>\n",
       "    .dataframe tbody tr th:only-of-type {\n",
       "        vertical-align: middle;\n",
       "    }\n",
       "\n",
       "    .dataframe tbody tr th {\n",
       "        vertical-align: top;\n",
       "    }\n",
       "\n",
       "    .dataframe thead th {\n",
       "        text-align: right;\n",
       "    }\n",
       "</style>\n",
       "<table border=\"1\" class=\"dataframe\">\n",
       "  <thead>\n",
       "    <tr style=\"text-align: right;\">\n",
       "      <th></th>\n",
       "      <th>Sentence #</th>\n",
       "      <th>Word</th>\n",
       "      <th>POS</th>\n",
       "      <th>Tag</th>\n",
       "      <th>Word_idx</th>\n",
       "      <th>Tag_idx</th>\n",
       "    </tr>\n",
       "  </thead>\n",
       "  <tbody>\n",
       "    <tr>\n",
       "      <th>0</th>\n",
       "      <td>Sentence: 1</td>\n",
       "      <td>Thousands</td>\n",
       "      <td>NNS</td>\n",
       "      <td>O</td>\n",
       "      <td>19018</td>\n",
       "      <td>10</td>\n",
       "    </tr>\n",
       "    <tr>\n",
       "      <th>1</th>\n",
       "      <td>NaN</td>\n",
       "      <td>of</td>\n",
       "      <td>IN</td>\n",
       "      <td>O</td>\n",
       "      <td>28958</td>\n",
       "      <td>10</td>\n",
       "    </tr>\n",
       "    <tr>\n",
       "      <th>2</th>\n",
       "      <td>NaN</td>\n",
       "      <td>demonstrators</td>\n",
       "      <td>NNS</td>\n",
       "      <td>O</td>\n",
       "      <td>6523</td>\n",
       "      <td>10</td>\n",
       "    </tr>\n",
       "    <tr>\n",
       "      <th>3</th>\n",
       "      <td>NaN</td>\n",
       "      <td>have</td>\n",
       "      <td>VBP</td>\n",
       "      <td>O</td>\n",
       "      <td>26274</td>\n",
       "      <td>10</td>\n",
       "    </tr>\n",
       "    <tr>\n",
       "      <th>4</th>\n",
       "      <td>NaN</td>\n",
       "      <td>marched</td>\n",
       "      <td>VBN</td>\n",
       "      <td>O</td>\n",
       "      <td>22699</td>\n",
       "      <td>10</td>\n",
       "    </tr>\n",
       "  </tbody>\n",
       "</table>\n",
       "</div>"
      ],
      "text/plain": [
       "    Sentence #           Word  POS Tag  Word_idx  Tag_idx\n",
       "0  Sentence: 1      Thousands  NNS   O     19018       10\n",
       "1          NaN             of   IN   O     28958       10\n",
       "2          NaN  demonstrators  NNS   O      6523       10\n",
       "3          NaN           have  VBP   O     26274       10\n",
       "4          NaN        marched  VBN   O     22699       10"
      ]
     },
     "execution_count": 6,
     "metadata": {},
     "output_type": "execute_result"
    }
   ],
   "source": [
    "data['Word_idx'] = data['Word'].map(word2idx)\n",
    "data['Tag_idx'] = data['Tag'].map(tag2idx)\n",
    "data.head()"
   ]
  },
  {
   "cell_type": "code",
   "execution_count": 7,
   "metadata": {
    "colab": {
     "base_uri": "https://localhost:8080/",
     "height": 346
    },
    "id": "O4RuJzS5g_AW",
    "outputId": "008751aa-cfae-4535-8819-2cf0c1abfe5e"
   },
   "outputs": [
    {
     "name": "stderr",
     "output_type": "stream",
     "text": [
      "/usr/local/lib/python3.7/dist-packages/ipykernel_launcher.py:5: FutureWarning: Indexing with multiple keys (implicitly converted to a tuple of keys) will be deprecated, use a list instead.\n",
      "  \"\"\"\n"
     ]
    },
    {
     "data": {
      "text/html": [
       "<div>\n",
       "<style scoped>\n",
       "    .dataframe tbody tr th:only-of-type {\n",
       "        vertical-align: middle;\n",
       "    }\n",
       "\n",
       "    .dataframe tbody tr th {\n",
       "        vertical-align: top;\n",
       "    }\n",
       "\n",
       "    .dataframe thead th {\n",
       "        text-align: right;\n",
       "    }\n",
       "</style>\n",
       "<table border=\"1\" class=\"dataframe\">\n",
       "  <thead>\n",
       "    <tr style=\"text-align: right;\">\n",
       "      <th></th>\n",
       "      <th>Sentence #</th>\n",
       "      <th>Word</th>\n",
       "      <th>POS</th>\n",
       "      <th>Tag</th>\n",
       "      <th>Word_idx</th>\n",
       "      <th>Tag_idx</th>\n",
       "    </tr>\n",
       "  </thead>\n",
       "  <tbody>\n",
       "    <tr>\n",
       "      <th>0</th>\n",
       "      <td>Sentence: 1</td>\n",
       "      <td>[Thousands, of, demonstrators, have, marched, ...</td>\n",
       "      <td>[NNS, IN, NNS, VBP, VBN, IN, NNP, TO, VB, DT, ...</td>\n",
       "      <td>[O, O, O, O, O, O, B-geo, O, O, O, O, O, B-geo...</td>\n",
       "      <td>[19018, 28958, 6523, 26274, 22699, 24439, 2842...</td>\n",
       "      <td>[10, 10, 10, 10, 10, 10, 14, 10, 10, 10, 10, 1...</td>\n",
       "    </tr>\n",
       "    <tr>\n",
       "      <th>1</th>\n",
       "      <td>Sentence: 10</td>\n",
       "      <td>[Iranian, officials, say, they, expect, to, ge...</td>\n",
       "      <td>[JJ, NNS, VBP, PRP, VBP, TO, VB, NN, TO, JJ, J...</td>\n",
       "      <td>[B-gpe, O, O, O, O, O, O, O, O, O, O, O, O, O,...</td>\n",
       "      <td>[13322, 22989, 12146, 19667, 9546, 28280, 3462...</td>\n",
       "      <td>[4, 10, 10, 10, 10, 10, 10, 10, 10, 10, 10, 10...</td>\n",
       "    </tr>\n",
       "    <tr>\n",
       "      <th>2</th>\n",
       "      <td>Sentence: 100</td>\n",
       "      <td>[Helicopter, gunships, Saturday, pounded, mili...</td>\n",
       "      <td>[NN, NNS, NNP, VBD, JJ, NNS, IN, DT, NNP, JJ, ...</td>\n",
       "      <td>[O, O, B-tim, O, O, O, O, O, B-geo, O, O, O, O...</td>\n",
       "      <td>[9218, 16783, 1307, 20430, 7430, 15039, 31013,...</td>\n",
       "      <td>[10, 10, 7, 10, 10, 10, 10, 10, 14, 10, 10, 10...</td>\n",
       "    </tr>\n",
       "    <tr>\n",
       "      <th>3</th>\n",
       "      <td>Sentence: 1000</td>\n",
       "      <td>[They, left, after, a, tense, hour-long, stand...</td>\n",
       "      <td>[PRP, VBD, IN, DT, NN, JJ, NN, IN, NN, NNS, .]</td>\n",
       "      <td>[O, O, O, O, O, O, O, O, O, O, O]</td>\n",
       "      <td>[25096, 1196, 19790, 18480, 26691, 17302, 304,...</td>\n",
       "      <td>[10, 10, 10, 10, 10, 10, 10, 10, 10, 10, 10]</td>\n",
       "    </tr>\n",
       "    <tr>\n",
       "      <th>4</th>\n",
       "      <td>Sentence: 10000</td>\n",
       "      <td>[U.N., relief, coordinator, Jan, Egeland, said...</td>\n",
       "      <td>[NNP, NN, NN, NNP, NNP, VBD, NNP, ,, NNP, ,, J...</td>\n",
       "      <td>[B-geo, O, O, B-per, I-per, O, B-tim, O, B-geo...</td>\n",
       "      <td>[17382, 21132, 5856, 3268, 1865, 17041, 9654, ...</td>\n",
       "      <td>[14, 10, 10, 3, 8, 10, 7, 10, 14, 10, 4, 10, 4...</td>\n",
       "    </tr>\n",
       "  </tbody>\n",
       "</table>\n",
       "</div>"
      ],
      "text/plain": [
       "        Sentence #  ...                                            Tag_idx\n",
       "0      Sentence: 1  ...  [10, 10, 10, 10, 10, 10, 14, 10, 10, 10, 10, 1...\n",
       "1     Sentence: 10  ...  [4, 10, 10, 10, 10, 10, 10, 10, 10, 10, 10, 10...\n",
       "2    Sentence: 100  ...  [10, 10, 7, 10, 10, 10, 10, 10, 14, 10, 10, 10...\n",
       "3   Sentence: 1000  ...       [10, 10, 10, 10, 10, 10, 10, 10, 10, 10, 10]\n",
       "4  Sentence: 10000  ...  [14, 10, 10, 3, 8, 10, 7, 10, 14, 10, 4, 10, 4...\n",
       "\n",
       "[5 rows x 6 columns]"
      ]
     },
     "execution_count": 7,
     "metadata": {},
     "output_type": "execute_result"
    }
   ],
   "source": [
    "## Fill na\n",
    "data_fillna = data.fillna(method='ffill', axis=0)\n",
    "\n",
    "## Grouping the tokens to sentences\n",
    "data_group = data_fillna.groupby(['Sentence #'],\n",
    "                                 as_index=False)['Word', 'POS', 'Tag', \n",
    "                                                 'Word_idx', 'Tag_idx'].agg(lambda x: list(x))\n",
    "## Visualise data\n",
    "data_group.head()"
   ]
  },
  {
   "cell_type": "code",
   "execution_count": 8,
   "metadata": {
    "colab": {
     "base_uri": "https://localhost:8080/"
    },
    "id": "E8gH5SIq5ISd",
    "outputId": "7ce4f890-a7d4-414a-af92-67ba65c50b3c"
   },
   "outputs": [
    {
     "data": {
      "text/plain": [
       "(47959, 6)"
      ]
     },
     "execution_count": 8,
     "metadata": {},
     "output_type": "execute_result"
    }
   ],
   "source": [
    "data_group.shape"
   ]
  },
  {
   "cell_type": "markdown",
   "metadata": {
    "id": "LeZrGAPb95VF"
   },
   "source": [
    "**So we have a total of 47959 labelled sentences.**"
   ]
  },
  {
   "cell_type": "markdown",
   "metadata": {},
   "source": [
    "<h2>Model Training</h2>"
   ]
  },
  {
   "cell_type": "code",
   "execution_count": 9,
   "metadata": {
    "id": "zuajBlkChDRD"
   },
   "outputs": [],
   "source": [
    "from sklearn.model_selection import train_test_split\n",
    "from keras.preprocessing.sequence import pad_sequences\n",
    "from tensorflow.keras.utils import to_categorical\n",
    "from keras.callbacks import ModelCheckpoint"
   ]
  },
  {
   "cell_type": "code",
   "execution_count": 11,
   "metadata": {
    "id": "N_5Tks_JhUe2"
   },
   "outputs": [],
   "source": [
    "import numpy as np\n",
    "import tensorflow\n",
    "from tensorflow.keras import Sequential, Model, Input\n",
    "from tensorflow.keras.layers import LSTM, Embedding, Dense, TimeDistributed, Dropout, Bidirectional, Activation  \n",
    "from tensorflow.keras.utils import plot_model\n",
    "\n",
    "## Seed for reproducibility\n",
    "from numpy.random import seed\n",
    "seed(1)\n",
    "tensorflow.random.set_seed(2)"
   ]
  },
  {
   "cell_type": "code",
   "execution_count": 12,
   "metadata": {
    "colab": {
     "base_uri": "https://localhost:8080/"
    },
    "id": "UrQae-r3hdRG",
    "outputId": "155931ab-a608-4178-dc1c-ec5376a6d7f7"
   },
   "outputs": [
    {
     "name": "stdout",
     "output_type": "stream",
     "text": [
      "input_dim:  35179 \n",
      "output_dim:  64 \n",
      "input_length:  104 \n",
      "n_tags:  17\n"
     ]
    }
   ],
   "source": [
    "## Finding dimensions of embedding layer\n",
    "input_dim = len(list(set(data['Word'].to_list())))+1\n",
    "output_dim = 64\n",
    "input_length = max([len(s) for s in data_group['Word_idx'].tolist()])\n",
    "print('input_dim: ', input_dim, '\\noutput_dim: ', output_dim, '\\ninput_length: ', input_length, '\\nn_tags: ', n_tags)"
   ]
  },
  {
   "cell_type": "code",
   "execution_count": 13,
   "metadata": {
    "id": "PTPUaD1jhiA6"
   },
   "outputs": [],
   "source": [
    "def get_bilstm_lstm_model():\n",
    "    model = Sequential()\n",
    "\n",
    "    # Add Embedding layer\n",
    "    model.add(Embedding(input_dim=input_dim, output_dim=output_dim, input_length=input_length))\n",
    "\n",
    "    # Add bidirectional LSTM\n",
    "    model.add(Bidirectional(LSTM(units=output_dim, return_sequences=True, dropout=0.2, recurrent_dropout=0.2), merge_mode = 'concat'))\n",
    "\n",
    "    # Add LSTM\n",
    "    model.add(LSTM(units=output_dim, return_sequences=True, dropout=0.5, recurrent_dropout=0.5))\n",
    "\n",
    "    # Add timeDistributed Layer\n",
    "    model.add(TimeDistributed(Dense(n_tags, activation=\"relu\"))) \n",
    "\n",
    "    #Optimiser \n",
    "    # adam = k.optimizers.Adam(lr=0.0005, beta_1=0.9, beta_2=0.999)\n",
    "\n",
    "    # Compile model\n",
    "    model.compile(loss='categorical_crossentropy', optimizer='adam', metrics=['accuracy'])\n",
    "    \n",
    "    return model"
   ]
  },
  {
   "cell_type": "code",
   "execution_count": null,
   "metadata": {
    "colab": {
     "base_uri": "https://localhost:8080/"
    },
    "id": "15Q37KhXhrp-",
    "outputId": "878a23b8-52ec-481f-e8ca-e31c85012d25"
   },
   "outputs": [
    {
     "name": "stdout",
     "output_type": "stream",
     "text": [
      "WARNING:tensorflow:Layer lstm will not use cuDNN kernels since it doesn't meet the criteria. It will use a generic GPU kernel as fallback when running on GPU.\n",
      "WARNING:tensorflow:Layer lstm will not use cuDNN kernels since it doesn't meet the criteria. It will use a generic GPU kernel as fallback when running on GPU.\n",
      "WARNING:tensorflow:Layer lstm will not use cuDNN kernels since it doesn't meet the criteria. It will use a generic GPU kernel as fallback when running on GPU.\n",
      "WARNING:tensorflow:Layer lstm_1 will not use cuDNN kernels since it doesn't meet the criteria. It will use a generic GPU kernel as fallback when running on GPU.\n",
      "Model: \"sequential_1\"\n",
      "_________________________________________________________________\n",
      "Layer (type)                 Output Shape              Param #   \n",
      "=================================================================\n",
      "embedding (Embedding)        (None, 104, 64)           2251456   \n",
      "_________________________________________________________________\n",
      "bidirectional (Bidirectional (None, 104, 128)          66048     \n",
      "_________________________________________________________________\n",
      "lstm_1 (LSTM)                (None, 104, 64)           49408     \n",
      "_________________________________________________________________\n",
      "time_distributed (TimeDistri (None, 104, 17)           1105      \n",
      "=================================================================\n",
      "Total params: 2,368,017\n",
      "Trainable params: 2,368,017\n",
      "Non-trainable params: 0\n",
      "_________________________________________________________________\n"
     ]
    }
   ],
   "source": [
    "model_bilstm_lstm = get_bilstm_lstm_model()"
   ]
  },
  {
   "cell_type": "code",
   "execution_count": null,
   "metadata": {
    "colab": {
     "base_uri": "https://localhost:8080/",
     "height": 466
    },
    "id": "QbV6jRqwhzqH",
    "outputId": "000ee064-89a5-42c7-aeb3-d481e6f55d3e"
   },
   "outputs": [
    {
     "data": {
      "image/png": "[encoded data removed]",
      "text/plain": [
       "<IPython.core.display.Image object>"
      ]
     },
     "execution_count": 19,
     "metadata": {},
     "output_type": "execute_result"
    }
   ],
   "source": [
    "## Visualizing the model\n",
    "plot_model(model_bilstm_lstm)"
   ]
  },
  {
   "cell_type": "code",
   "execution_count": 14,
   "metadata": {
    "id": "IRMegPpXK23l"
   },
   "outputs": [],
   "source": [
    "## UTILITY FUNCTIONS\n",
    "\n",
    "def find_tags(arr3d):\n",
    "\n",
    "  idxs = []\n",
    "  for sent in arr3d:\n",
    "    for token in sent:\n",
    "      idxs.append(np.argmax(token))\n",
    "  return idxs\n",
    "\n",
    "def test_accuracy(pred_tags, orig_tags):\n",
    "  total, corr = len(pred_tags), 0\n",
    "  \n",
    "  for pred_tag, orig_tag in zip(pred_tags, orig_tags):\n",
    "    if pred_tag == orig_tag:\n",
    "      corr += 1\n",
    "  \n",
    "  return corr/total"
   ]
  },
  {
   "cell_type": "markdown",
   "metadata": {
    "id": "Sc9F2NQbDBwH"
   },
   "source": [
    "## K-fold cross validation\n",
    "\n",
    "I am going to use a 10 fold cross-validation for training the model."
   ]
  },
  {
   "cell_type": "code",
   "execution_count": 15,
   "metadata": {
    "colab": {
     "base_uri": "https://localhost:8080/",
     "height": 351
    },
    "id": "todp5leBjTRa",
    "outputId": "611161f2-ac51-4be0-896f-265211d16cfa"
   },
   "outputs": [
    {
     "name": "stdout",
     "output_type": "stream",
     "text": [
      "Train data shape :-  (45000, 6)\n",
      "Test data shape :-  (2959, 6)\n"
     ]
    },
    {
     "name": "stderr",
     "output_type": "stream",
     "text": [
      "/usr/local/lib/python3.7/dist-packages/ipykernel_launcher.py:13: SettingWithCopyWarning: \n",
      "A value is trying to be set on a copy of a slice from a DataFrame.\n",
      "Try using .loc[row_indexer,col_indexer] = value instead\n",
      "\n",
      "See the caveats in the documentation: https://pandas.pydata.org/pandas-docs/stable/user_guide/indexing.html#returning-a-view-versus-a-copy\n",
      "  del sys.path[0]\n"
     ]
    },
    {
     "data": {
      "text/html": [
       "<div>\n",
       "<style scoped>\n",
       "    .dataframe tbody tr th:only-of-type {\n",
       "        vertical-align: middle;\n",
       "    }\n",
       "\n",
       "    .dataframe tbody tr th {\n",
       "        vertical-align: top;\n",
       "    }\n",
       "\n",
       "    .dataframe thead th {\n",
       "        text-align: right;\n",
       "    }\n",
       "</style>\n",
       "<table border=\"1\" class=\"dataframe\">\n",
       "  <thead>\n",
       "    <tr style=\"text-align: right;\">\n",
       "      <th></th>\n",
       "      <th>Sentence #</th>\n",
       "      <th>Word</th>\n",
       "      <th>POS</th>\n",
       "      <th>Tag</th>\n",
       "      <th>Word_idx</th>\n",
       "      <th>Tag_idx</th>\n",
       "      <th>Fold_id</th>\n",
       "    </tr>\n",
       "  </thead>\n",
       "  <tbody>\n",
       "    <tr>\n",
       "      <th>31157</th>\n",
       "      <td>Sentence: 3804</td>\n",
       "      <td>[AN, OWL, ,, in, her, wisdom, ,, counseled, th...</td>\n",
       "      <td>[DT, NN, ,, IN, PRP$, NN, ,, VBD, DT, NNS, WDT...</td>\n",
       "      <td>[O, O, O, O, O, O, O, O, O, O, O, O, O, O, O, ...</td>\n",
       "      <td>[12859, 16427, 31857, 31013, 28818, 8291, 3185...</td>\n",
       "      <td>[10, 10, 10, 10, 10, 10, 10, 10, 10, 10, 10, 1...</td>\n",
       "      <td>0</td>\n",
       "    </tr>\n",
       "    <tr>\n",
       "      <th>3883</th>\n",
       "      <td>Sentence: 13493</td>\n",
       "      <td>[The, prisoners, ', identities, were, not, imm...</td>\n",
       "      <td>[DT, NNS, POS, NNS, VBD, RB, RB, VBN, ,, CC, N...</td>\n",
       "      <td>[O, O, O, O, O, O, O, O, O, O, B-gpe, O, O, O,...</td>\n",
       "      <td>[9958, 6680, 10147, 12726, 25535, 18249, 18099...</td>\n",
       "      <td>[10, 10, 10, 10, 10, 10, 10, 10, 10, 10, 4, 10...</td>\n",
       "      <td>1</td>\n",
       "    </tr>\n",
       "    <tr>\n",
       "      <th>31140</th>\n",
       "      <td>Sentence: 38024</td>\n",
       "      <td>[The, bill, won, final, approval, in, the, Sta...</td>\n",
       "      <td>[DT, NN, VBD, JJ, NN, IN, DT, NN, NNP, IN, DT,...</td>\n",
       "      <td>[O, O, O, O, O, O, O, B-geo, I-geo, O, O, O, O...</td>\n",
       "      <td>[9958, 2128, 32260, 10709, 32257, 31013, 23093...</td>\n",
       "      <td>[10, 10, 10, 10, 10, 10, 10, 14, 11, 10, 10, 1...</td>\n",
       "      <td>2</td>\n",
       "    </tr>\n",
       "  </tbody>\n",
       "</table>\n",
       "</div>"
      ],
      "text/plain": [
       "            Sentence #  ... Fold_id\n",
       "31157   Sentence: 3804  ...       0\n",
       "3883   Sentence: 13493  ...       1\n",
       "31140  Sentence: 38024  ...       2\n",
       "\n",
       "[3 rows x 7 columns]"
      ]
     },
     "execution_count": 15,
     "metadata": {},
     "output_type": "execute_result"
    }
   ],
   "source": [
    "## Randomly shuffling the datapoints\n",
    "data_group = data_group.sample(frac=1)\n",
    "\n",
    "## Splitting up data into train & test set\n",
    "train_data_group = data_group[:45000]\n",
    "test_data_group = data_group[45000:]\n",
    "print(\"Train data shape :- \",train_data_group.shape)\n",
    "print(\"Test data shape :- \",test_data_group.shape)\n",
    "\n",
    "kfold = 10\n",
    "fold_idxs = [(i % kfold) for i in range(train_data_group.shape[0])]\n",
    "\n",
    "train_data_group[\"Fold_id\"] = fold_idxs\n",
    "train_data_group.head(3)"
   ]
  },
  {
   "cell_type": "code",
   "execution_count": 16,
   "metadata": {
    "colab": {
     "base_uri": "https://localhost:8080/"
    },
    "id": "EYjpXlVpDBZU",
    "outputId": "087903d6-7136-4aab-d8d2-644bf540bc67"
   },
   "outputs": [
    {
     "data": {
      "text/plain": [
       "104"
      ]
     },
     "execution_count": 16,
     "metadata": {},
     "output_type": "execute_result"
    }
   ],
   "source": [
    "maxlen = max([len(s) for s in train_data_group['Word_idx'].tolist()])\n",
    "maxlen"
   ]
  },
  {
   "cell_type": "code",
   "execution_count": 19,
   "metadata": {
    "id": "Yz8k_x1enrKt"
   },
   "outputs": [],
   "source": [
    "import time"
   ]
  },
  {
   "cell_type": "code",
   "execution_count": 25,
   "metadata": {
    "id": "9pUuKFZcl_yP"
   },
   "outputs": [],
   "source": [
    "def get_pad_tokens_tags(tokens, tags, maxlen, n_token, n_tags):\n",
    "  \"\"\"Returns padded tokens & tags\"\"\"\n",
    "\n",
    "  ## Padding tokens\n",
    "  pad_tokens = pad_sequences(tokens, maxlen=maxlen, dtype='int32', padding='post', value=n_token-1)\n",
    "  \n",
    "  ## Padding tags & one hot encoding them\n",
    "  pad_tags = pad_sequences(tags, maxlen=maxlen, dtype='int32', padding='post', value=tag2idx[\"O\"])\n",
    "  pad_tags = [to_categorical(i, num_classes=n_tags) for i in pad_tags] \n",
    "\n",
    "  return (pad_tokens, pad_tags)\n",
    "\n",
    "def crossval(train_data_group, test_data_group, maxlen, n_token, n_tags, kfold):\n",
    "    \"\"\"Returns the history & test-set accuracy for all folds.\"\"\"\n",
    "    \n",
    "    hist_ls, test_acc_ls = [], []\n",
    "    batch_size = 1024\n",
    "    num_epochs = 5\n",
    "  \n",
    "    test_tokens = test_data_group['Word_idx'].tolist()\n",
    "    test_tags = test_data_group['Tag_idx'].tolist()    \n",
    "    \n",
    "    ## Get padded tokens & tags for testing model on unseen data\n",
    "    test_pad_tokens, test_pad_tags = get_pad_tokens_tags(test_tokens, test_tags, maxlen, n_token, n_tags)   \n",
    "\n",
    "    for i in range(kfold):\n",
    "\n",
    "      train_data_grp = train_data_group[train_data_group[\"Fold_id\"] != i]\n",
    "      val_data_grp = train_data_group[train_data_group[\"Fold_id\"] == i]\n",
    "\n",
    "      ## Tokens - (X var) , Tags - (Y var)   \n",
    "      train_tokens = train_data_grp['Word_idx'].tolist()\n",
    "      train_tags = train_data_grp['Tag_idx'].tolist()\n",
    "      val_tokens = val_data_grp['Word_idx'].tolist()\n",
    "      val_tags = val_data_grp['Tag_idx'].tolist()\n",
    "\n",
    "      ## Get padded tokens & tags\n",
    "      train_pad_tokens, train_pad_tags = get_pad_tokens_tags(train_tokens, train_tags, maxlen, n_token, n_tags)      \n",
    "      val_pad_tokens, val_pad_tags = get_pad_tokens_tags(val_tokens, val_tags, maxlen, n_token, n_tags)\n",
    "\n",
    "      ## Getting new model\n",
    "      model = get_bilstm_lstm_model()\n",
    "\n",
    "      # Saving the best model only\n",
    "      filepath=\"ner-bi-lstm-fold{}.hdf5\".format(i)\n",
    "      checkpoint = ModelCheckpoint(filepath, monitor='val_accuracy', verbose=1, save_best_only=True, mode='max')\n",
    "      callbacks_list = [checkpoint]\n",
    "\n",
    "      print(\"Training started with validation fold-{}\".format(i))\n",
    "      st = time.time()\n",
    "      hist = model.fit(train_pad_tokens, \n",
    "                       np.array(train_pad_tags), \n",
    "                       batch_size=batch_size, \n",
    "                       verbose=0, \n",
    "                       epochs=num_epochs, \n",
    "                       validation_data = (val_pad_tokens, np.array(val_pad_tags)), \n",
    "                       callbacks=callbacks_list) \n",
    "      en = time.time()\n",
    "      print(\"Fold-{} training time = {} mins\".format(i,(en-st)/60)) \n",
    "      hist_ls.append(hist)    \n",
    "\n",
    "      pred = model.predict(test_pad_tokens)\n",
    "      pred_tags = find_tags(pred)\n",
    "      orig_tags = find_tags(np.array(test_pad_tags))\n",
    "      \n",
    "      test_acc = test_accuracy(pred_tags, orig_tags)\n",
    "      test_acc_ls.append(test_acc)\n",
    "      print(\"Fold {} complete. Test set accuracy - {}\".format(i, test_acc))\n",
    "      print(\"*\"*100+\"\\n\\n\")\n",
    "\n",
    "    \n",
    "    return (hist_ls, test_acc_ls)"
   ]
  },
  {
   "cell_type": "code",
   "execution_count": 26,
   "metadata": {
    "colab": {
     "base_uri": "https://localhost:8080/"
    },
    "id": "gX97PEqYnQ3F",
    "outputId": "386272be-d29f-40f3-fb7e-ecb3d52508d4"
   },
   "outputs": [
    {
     "name": "stdout",
     "output_type": "stream",
     "text": [
      "WARNING:tensorflow:Layer lstm_6 will not use cuDNN kernels since it doesn't meet the criteria. It will use a generic GPU kernel as fallback when running on GPU.\n",
      "WARNING:tensorflow:Layer lstm_6 will not use cuDNN kernels since it doesn't meet the criteria. It will use a generic GPU kernel as fallback when running on GPU.\n",
      "WARNING:tensorflow:Layer lstm_6 will not use cuDNN kernels since it doesn't meet the criteria. It will use a generic GPU kernel as fallback when running on GPU.\n",
      "WARNING:tensorflow:Layer lstm_7 will not use cuDNN kernels since it doesn't meet the criteria. It will use a generic GPU kernel as fallback when running on GPU.\n",
      "Training started with validation fold-0\n",
      "\n",
      "Epoch 00001: val_accuracy improved from -inf to 0.96799, saving model to ner-bi-lstm-fold0.hdf5\n",
      "\n",
      "Epoch 00002: val_accuracy did not improve from 0.96799\n",
      "\n",
      "Epoch 00003: val_accuracy did not improve from 0.96799\n",
      "\n",
      "Epoch 00004: val_accuracy did not improve from 0.96799\n",
      "\n",
      "Epoch 00005: val_accuracy did not improve from 0.96799\n",
      "Fold-0 training time = 7.179142208894094 mins\n",
      "Fold 0 complete. Test set accuracy - 0.9680992799022539\n",
      "****************************************************************************************************\n",
      "\n",
      "\n",
      "WARNING:tensorflow:Layer lstm_8 will not use cuDNN kernels since it doesn't meet the criteria. It will use a generic GPU kernel as fallback when running on GPU.\n",
      "WARNING:tensorflow:Layer lstm_8 will not use cuDNN kernels since it doesn't meet the criteria. It will use a generic GPU kernel as fallback when running on GPU.\n",
      "WARNING:tensorflow:Layer lstm_8 will not use cuDNN kernels since it doesn't meet the criteria. It will use a generic GPU kernel as fallback when running on GPU.\n",
      "WARNING:tensorflow:Layer lstm_9 will not use cuDNN kernels since it doesn't meet the criteria. It will use a generic GPU kernel as fallback when running on GPU.\n",
      "Training started with validation fold-1\n",
      "\n",
      "Epoch 00001: val_accuracy improved from -inf to 0.96757, saving model to ner-bi-lstm-fold1.hdf5\n",
      "\n",
      "Epoch 00002: val_accuracy did not improve from 0.96757\n",
      "\n",
      "Epoch 00003: val_accuracy did not improve from 0.96757\n",
      "\n",
      "Epoch 00004: val_accuracy improved from 0.96757 to 0.96758, saving model to ner-bi-lstm-fold1.hdf5\n",
      "\n",
      "Epoch 00005: val_accuracy improved from 0.96758 to 0.96768, saving model to ner-bi-lstm-fold1.hdf5\n",
      "Fold-1 training time = 7.590966049830119 mins\n",
      "Fold 1 complete. Test set accuracy - 0.9681967660592196\n",
      "****************************************************************************************************\n",
      "\n",
      "\n",
      "WARNING:tensorflow:Layer lstm_10 will not use cuDNN kernels since it doesn't meet the criteria. It will use a generic GPU kernel as fallback when running on GPU.\n",
      "WARNING:tensorflow:Layer lstm_10 will not use cuDNN kernels since it doesn't meet the criteria. It will use a generic GPU kernel as fallback when running on GPU.\n",
      "WARNING:tensorflow:Layer lstm_10 will not use cuDNN kernels since it doesn't meet the criteria. It will use a generic GPU kernel as fallback when running on GPU.\n",
      "WARNING:tensorflow:Layer lstm_11 will not use cuDNN kernels since it doesn't meet the criteria. It will use a generic GPU kernel as fallback when running on GPU.\n",
      "Training started with validation fold-2\n",
      "\n",
      "Epoch 00001: val_accuracy improved from -inf to 0.96805, saving model to ner-bi-lstm-fold2.hdf5\n",
      "\n",
      "Epoch 00002: val_accuracy did not improve from 0.96805\n",
      "\n",
      "Epoch 00003: val_accuracy did not improve from 0.96805\n",
      "\n",
      "Epoch 00004: val_accuracy did not improve from 0.96805\n",
      "\n",
      "Epoch 00005: val_accuracy did not improve from 0.96805\n",
      "Fold-2 training time = 7.508155488967896 mins\n",
      "Fold 2 complete. Test set accuracy - 0.9680927808251228\n",
      "****************************************************************************************************\n",
      "\n",
      "\n",
      "WARNING:tensorflow:Layer lstm_12 will not use cuDNN kernels since it doesn't meet the criteria. It will use a generic GPU kernel as fallback when running on GPU.\n",
      "WARNING:tensorflow:Layer lstm_12 will not use cuDNN kernels since it doesn't meet the criteria. It will use a generic GPU kernel as fallback when running on GPU.\n",
      "WARNING:tensorflow:Layer lstm_12 will not use cuDNN kernels since it doesn't meet the criteria. It will use a generic GPU kernel as fallback when running on GPU.\n",
      "WARNING:tensorflow:Layer lstm_13 will not use cuDNN kernels since it doesn't meet the criteria. It will use a generic GPU kernel as fallback when running on GPU.\n",
      "Training started with validation fold-3\n",
      "\n",
      "Epoch 00001: val_accuracy improved from -inf to 0.96813, saving model to ner-bi-lstm-fold3.hdf5\n",
      "\n",
      "Epoch 00002: val_accuracy did not improve from 0.96813\n",
      "\n",
      "Epoch 00003: val_accuracy did not improve from 0.96813\n",
      "\n",
      "Epoch 00004: val_accuracy did not improve from 0.96813\n",
      "\n",
      "Epoch 00005: val_accuracy did not improve from 0.96813\n",
      "Fold-3 training time = 7.008260492483775 mins\n",
      "Fold 3 complete. Test set accuracy - 0.9680927808251228\n",
      "****************************************************************************************************\n",
      "\n",
      "\n",
      "WARNING:tensorflow:Layer lstm_14 will not use cuDNN kernels since it doesn't meet the criteria. It will use a generic GPU kernel as fallback when running on GPU.\n",
      "WARNING:tensorflow:Layer lstm_14 will not use cuDNN kernels since it doesn't meet the criteria. It will use a generic GPU kernel as fallback when running on GPU.\n",
      "WARNING:tensorflow:Layer lstm_14 will not use cuDNN kernels since it doesn't meet the criteria. It will use a generic GPU kernel as fallback when running on GPU.\n",
      "WARNING:tensorflow:Layer lstm_15 will not use cuDNN kernels since it doesn't meet the criteria. It will use a generic GPU kernel as fallback when running on GPU.\n",
      "Training started with validation fold-4\n",
      "\n",
      "Epoch 00001: val_accuracy improved from -inf to 0.96853, saving model to ner-bi-lstm-fold4.hdf5\n",
      "\n",
      "Epoch 00002: val_accuracy did not improve from 0.96853\n",
      "\n",
      "Epoch 00003: val_accuracy did not improve from 0.96853\n",
      "\n",
      "Epoch 00004: val_accuracy improved from 0.96853 to 0.96853, saving model to ner-bi-lstm-fold4.hdf5\n",
      "\n",
      "Epoch 00005: val_accuracy did not improve from 0.96853\n",
      "Fold-4 training time = 7.503317598501841 mins\n",
      "Fold 4 complete. Test set accuracy - 0.9680960303636884\n",
      "****************************************************************************************************\n",
      "\n",
      "\n",
      "WARNING:tensorflow:Layer lstm_16 will not use cuDNN kernels since it doesn't meet the criteria. It will use a generic GPU kernel as fallback when running on GPU.\n",
      "WARNING:tensorflow:Layer lstm_16 will not use cuDNN kernels since it doesn't meet the criteria. It will use a generic GPU kernel as fallback when running on GPU.\n",
      "WARNING:tensorflow:Layer lstm_16 will not use cuDNN kernels since it doesn't meet the criteria. It will use a generic GPU kernel as fallback when running on GPU.\n",
      "WARNING:tensorflow:Layer lstm_17 will not use cuDNN kernels since it doesn't meet the criteria. It will use a generic GPU kernel as fallback when running on GPU.\n",
      "Training started with validation fold-5\n",
      "\n",
      "Epoch 00001: val_accuracy improved from -inf to 0.96747, saving model to ner-bi-lstm-fold5.hdf5\n",
      "\n",
      "Epoch 00002: val_accuracy did not improve from 0.96747\n",
      "\n",
      "Epoch 00003: val_accuracy improved from 0.96747 to 0.96748, saving model to ner-bi-lstm-fold5.hdf5\n",
      "\n",
      "Epoch 00004: val_accuracy did not improve from 0.96748\n",
      "\n",
      "Epoch 00005: val_accuracy did not improve from 0.96748\n",
      "Fold-5 training time = 7.077467656135559 mins\n",
      "Fold 5 complete. Test set accuracy - 0.9680927808251228\n",
      "****************************************************************************************************\n",
      "\n",
      "\n",
      "WARNING:tensorflow:Layer lstm_18 will not use cuDNN kernels since it doesn't meet the criteria. It will use a generic GPU kernel as fallback when running on GPU.\n",
      "WARNING:tensorflow:Layer lstm_18 will not use cuDNN kernels since it doesn't meet the criteria. It will use a generic GPU kernel as fallback when running on GPU.\n",
      "WARNING:tensorflow:Layer lstm_18 will not use cuDNN kernels since it doesn't meet the criteria. It will use a generic GPU kernel as fallback when running on GPU.\n",
      "WARNING:tensorflow:Layer lstm_19 will not use cuDNN kernels since it doesn't meet the criteria. It will use a generic GPU kernel as fallback when running on GPU.\n",
      "Training started with validation fold-6\n",
      "\n",
      "Epoch 00001: val_accuracy improved from -inf to 0.96825, saving model to ner-bi-lstm-fold6.hdf5\n",
      "\n",
      "Epoch 00002: val_accuracy did not improve from 0.96825\n",
      "\n",
      "Epoch 00003: val_accuracy improved from 0.96825 to 0.96825, saving model to ner-bi-lstm-fold6.hdf5\n",
      "\n",
      "Epoch 00004: val_accuracy improved from 0.96825 to 0.96826, saving model to ner-bi-lstm-fold6.hdf5\n",
      "\n",
      "Epoch 00005: val_accuracy improved from 0.96826 to 0.96830, saving model to ner-bi-lstm-fold6.hdf5\n",
      "Fold-6 training time = 7.097572767734528 mins\n",
      "Fold 6 complete. Test set accuracy - 0.9681317752879092\n",
      "****************************************************************************************************\n",
      "\n",
      "\n",
      "WARNING:tensorflow:Layer lstm_20 will not use cuDNN kernels since it doesn't meet the criteria. It will use a generic GPU kernel as fallback when running on GPU.\n",
      "WARNING:tensorflow:Layer lstm_20 will not use cuDNN kernels since it doesn't meet the criteria. It will use a generic GPU kernel as fallback when running on GPU.\n",
      "WARNING:tensorflow:Layer lstm_20 will not use cuDNN kernels since it doesn't meet the criteria. It will use a generic GPU kernel as fallback when running on GPU.\n",
      "WARNING:tensorflow:Layer lstm_21 will not use cuDNN kernels since it doesn't meet the criteria. It will use a generic GPU kernel as fallback when running on GPU.\n",
      "Training started with validation fold-7\n",
      "\n",
      "Epoch 00001: val_accuracy improved from -inf to 0.96721, saving model to ner-bi-lstm-fold7.hdf5\n",
      "\n",
      "Epoch 00002: val_accuracy did not improve from 0.96721\n",
      "\n",
      "Epoch 00003: val_accuracy did not improve from 0.96721\n",
      "\n",
      "Epoch 00004: val_accuracy improved from 0.96721 to 0.96721, saving model to ner-bi-lstm-fold7.hdf5\n",
      "\n",
      "Epoch 00005: val_accuracy did not improve from 0.96721\n",
      "Fold-7 training time = 7.033896370728811 mins\n",
      "Fold 7 complete. Test set accuracy - 0.9680927808251228\n",
      "****************************************************************************************************\n",
      "\n",
      "\n",
      "WARNING:tensorflow:Layer lstm_22 will not use cuDNN kernels since it doesn't meet the criteria. It will use a generic GPU kernel as fallback when running on GPU.\n",
      "WARNING:tensorflow:Layer lstm_22 will not use cuDNN kernels since it doesn't meet the criteria. It will use a generic GPU kernel as fallback when running on GPU.\n",
      "WARNING:tensorflow:Layer lstm_22 will not use cuDNN kernels since it doesn't meet the criteria. It will use a generic GPU kernel as fallback when running on GPU.\n",
      "WARNING:tensorflow:Layer lstm_23 will not use cuDNN kernels since it doesn't meet the criteria. It will use a generic GPU kernel as fallback when running on GPU.\n",
      "Training started with validation fold-8\n",
      "\n",
      "Epoch 00001: val_accuracy improved from -inf to 0.96717, saving model to ner-bi-lstm-fold8.hdf5\n",
      "\n",
      "Epoch 00002: val_accuracy did not improve from 0.96717\n",
      "\n",
      "Epoch 00003: val_accuracy did not improve from 0.96717\n",
      "\n",
      "Epoch 00004: val_accuracy did not improve from 0.96717\n",
      "\n",
      "Epoch 00005: val_accuracy did not improve from 0.96717\n",
      "Fold-8 training time = 7.49548598130544 mins\n",
      "Fold 8 complete. Test set accuracy - 0.9680927808251228\n",
      "****************************************************************************************************\n",
      "\n",
      "\n",
      "WARNING:tensorflow:Layer lstm_24 will not use cuDNN kernels since it doesn't meet the criteria. It will use a generic GPU kernel as fallback when running on GPU.\n",
      "WARNING:tensorflow:Layer lstm_24 will not use cuDNN kernels since it doesn't meet the criteria. It will use a generic GPU kernel as fallback when running on GPU.\n",
      "WARNING:tensorflow:Layer lstm_24 will not use cuDNN kernels since it doesn't meet the criteria. It will use a generic GPU kernel as fallback when running on GPU.\n",
      "WARNING:tensorflow:Layer lstm_25 will not use cuDNN kernels since it doesn't meet the criteria. It will use a generic GPU kernel as fallback when running on GPU.\n",
      "Training started with validation fold-9\n",
      "\n",
      "Epoch 00001: val_accuracy improved from -inf to 0.96732, saving model to ner-bi-lstm-fold9.hdf5\n",
      "\n",
      "Epoch 00002: val_accuracy did not improve from 0.96732\n",
      "\n",
      "Epoch 00003: val_accuracy improved from 0.96732 to 0.96733, saving model to ner-bi-lstm-fold9.hdf5\n",
      "\n",
      "Epoch 00004: val_accuracy did not improve from 0.96733\n",
      "\n",
      "Epoch 00005: val_accuracy did not improve from 0.96733\n",
      "Fold-9 training time = 7.497020065784454 mins\n",
      "Fold 9 complete. Test set accuracy - 0.9680960303636884\n",
      "****************************************************************************************************\n",
      "\n",
      "\n"
     ]
    }
   ],
   "source": [
    "hist_ls, test_acc_ls = crossval(train_data_group, test_data_group, maxlen, n_token, n_tags, kfold)"
   ]
  },
  {
   "cell_type": "code",
   "execution_count": 27,
   "metadata": {
    "colab": {
     "base_uri": "https://localhost:8080/"
    },
    "id": "Edw03CLNiGNS",
    "outputId": "515c2cb1-c9a9-4f6d-cda4-d0ed8e0d9c5e"
   },
   "outputs": [
    {
     "data": {
      "text/plain": [
       "[0.9680992799022539,\n",
       " 0.9681967660592196,\n",
       " 0.9680927808251228,\n",
       " 0.9680927808251228,\n",
       " 0.9680960303636884,\n",
       " 0.9680927808251228,\n",
       " 0.9681317752879092,\n",
       " 0.9680927808251228,\n",
       " 0.9680927808251228,\n",
       " 0.9680960303636884]"
      ]
     },
     "execution_count": 27,
     "metadata": {},
     "output_type": "execute_result"
    }
   ],
   "source": [
    "## TEST SET ACCURACIES\n",
    "test_acc_ls"
   ]
  },
  {
   "cell_type": "markdown",
   "metadata": {
    "id": "3w0mvFDHCnS7"
   },
   "source": [
    "**BEST TEST SET ACCURACY ACHIEVED IS 96.82%**"
   ]
  },
  {
   "cell_type": "code",
   "execution_count": null,
   "metadata": {},
   "outputs": [],
   "source": []
  }
 ],
 "metadata": {
  "accelerator": "GPU",
  "colab": {
   "collapsed_sections": [],
   "name": "Custom_NER_using_Keras.ipynb",
   "provenance": []
  },
  "kernelspec": {
   "display_name": "Python 3",
   "language": "python",
   "name": "python3"
  },
  "language_info": {
   "codemirror_mode": {
    "name": "ipython",
    "version": 3
   },
   "file_extension": ".py",
   "mimetype": "text/x-python",
   "name": "python",
   "nbconvert_exporter": "python",
   "pygments_lexer": "ipython3",
   "version": "3.6.5"
  }
 },
 "nbformat": 4,
 "nbformat_minor": 1
}
